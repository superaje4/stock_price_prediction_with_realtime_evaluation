{
 "cells": [
  {
   "cell_type": "code",
   "execution_count": 2,
   "id": "3ef44513-ed74-4dbd-a657-70ec104e547f",
   "metadata": {
    "tags": []
   },
   "outputs": [],
   "source": [
    "import pandas as pd\n",
    "import numpy as np\n",
    "import matplotlib.pyplot as plt\n",
    "import seaborn as sns"
   ]
  },
  {
   "cell_type": "markdown",
   "id": "30186962-aa7a-4c28-8745-eb645b7766da",
   "metadata": {},
   "source": [
    "# Prepare date"
   ]
  },
  {
   "cell_type": "code",
   "execution_count": 23,
   "id": "41cf68b9-848a-4563-a45b-b04a5448cb31",
   "metadata": {
    "tags": []
   },
   "outputs": [
    {
     "data": {
      "text/html": [
       "<div>\n",
       "<style scoped>\n",
       "    .dataframe tbody tr th:only-of-type {\n",
       "        vertical-align: middle;\n",
       "    }\n",
       "\n",
       "    .dataframe tbody tr th {\n",
       "        vertical-align: top;\n",
       "    }\n",
       "\n",
       "    .dataframe thead th {\n",
       "        text-align: right;\n",
       "    }\n",
       "</style>\n",
       "<table border=\"1\" class=\"dataframe\">\n",
       "  <thead>\n",
       "    <tr style=\"text-align: right;\">\n",
       "      <th></th>\n",
       "      <th>tanggal</th>\n",
       "      <th>harga</th>\n",
       "    </tr>\n",
       "  </thead>\n",
       "  <tbody>\n",
       "    <tr>\n",
       "      <th>0</th>\n",
       "      <td>2020-01-02</td>\n",
       "      <td>7.750</td>\n",
       "    </tr>\n",
       "    <tr>\n",
       "      <th>1</th>\n",
       "      <td>2020-01-03</td>\n",
       "      <td>7.725</td>\n",
       "    </tr>\n",
       "    <tr>\n",
       "      <th>2</th>\n",
       "      <td>2020-01-06</td>\n",
       "      <td>7.600</td>\n",
       "    </tr>\n",
       "    <tr>\n",
       "      <th>3</th>\n",
       "      <td>2020-01-07</td>\n",
       "      <td>7.600</td>\n",
       "    </tr>\n",
       "    <tr>\n",
       "      <th>4</th>\n",
       "      <td>2020-01-08</td>\n",
       "      <td>7.500</td>\n",
       "    </tr>\n",
       "    <tr>\n",
       "      <th>...</th>\n",
       "      <td>...</td>\n",
       "      <td>...</td>\n",
       "    </tr>\n",
       "    <tr>\n",
       "      <th>1030</th>\n",
       "      <td>2024-02-19</td>\n",
       "      <td>7.150</td>\n",
       "    </tr>\n",
       "    <tr>\n",
       "      <th>1031</th>\n",
       "      <td>2024-02-20</td>\n",
       "      <td>7.150</td>\n",
       "    </tr>\n",
       "    <tr>\n",
       "      <th>1032</th>\n",
       "      <td>2024-02-21</td>\n",
       "      <td>7.250</td>\n",
       "    </tr>\n",
       "    <tr>\n",
       "      <th>1033</th>\n",
       "      <td>2024-02-22</td>\n",
       "      <td>7.100</td>\n",
       "    </tr>\n",
       "    <tr>\n",
       "      <th>1034</th>\n",
       "      <td>2024-02-23</td>\n",
       "      <td>7.050</td>\n",
       "    </tr>\n",
       "  </tbody>\n",
       "</table>\n",
       "<p>1035 rows × 2 columns</p>\n",
       "</div>"
      ],
      "text/plain": [
       "         tanggal  harga\n",
       "0     2020-01-02  7.750\n",
       "1     2020-01-03  7.725\n",
       "2     2020-01-06  7.600\n",
       "3     2020-01-07  7.600\n",
       "4     2020-01-08  7.500\n",
       "...          ...    ...\n",
       "1030  2024-02-19  7.150\n",
       "1031  2024-02-20  7.150\n",
       "1032  2024-02-21  7.250\n",
       "1033  2024-02-22  7.100\n",
       "1034  2024-02-23  7.050\n",
       "\n",
       "[1035 rows x 2 columns]"
      ]
     },
     "execution_count": 23,
     "metadata": {},
     "output_type": "execute_result"
    }
   ],
   "source": [
    "df=pd.read_csv(\"C:/Users/ASUS/Desktop/Daming/VSC/stock_price_prediction_with_realtime_evaluation/data/raw/data_mandiri.csv\")\n",
    "df"
   ]
  },
  {
   "cell_type": "code",
   "execution_count": 24,
   "id": "902dcd17",
   "metadata": {},
   "outputs": [
    {
     "data": {
      "text/html": [
       "<div>\n",
       "<style scoped>\n",
       "    .dataframe tbody tr th:only-of-type {\n",
       "        vertical-align: middle;\n",
       "    }\n",
       "\n",
       "    .dataframe tbody tr th {\n",
       "        vertical-align: top;\n",
       "    }\n",
       "\n",
       "    .dataframe thead th {\n",
       "        text-align: right;\n",
       "    }\n",
       "</style>\n",
       "<table border=\"1\" class=\"dataframe\">\n",
       "  <thead>\n",
       "    <tr style=\"text-align: right;\">\n",
       "      <th></th>\n",
       "      <th>tanggal</th>\n",
       "      <th>harga_saham</th>\n",
       "    </tr>\n",
       "  </thead>\n",
       "  <tbody>\n",
       "    <tr>\n",
       "      <th>0</th>\n",
       "      <td>2020-01-01</td>\n",
       "      <td>unk</td>\n",
       "    </tr>\n",
       "    <tr>\n",
       "      <th>1</th>\n",
       "      <td>2020-01-02</td>\n",
       "      <td>unk</td>\n",
       "    </tr>\n",
       "    <tr>\n",
       "      <th>2</th>\n",
       "      <td>2020-01-03</td>\n",
       "      <td>unk</td>\n",
       "    </tr>\n",
       "    <tr>\n",
       "      <th>3</th>\n",
       "      <td>2020-01-06</td>\n",
       "      <td>unk</td>\n",
       "    </tr>\n",
       "    <tr>\n",
       "      <th>4</th>\n",
       "      <td>2020-01-07</td>\n",
       "      <td>unk</td>\n",
       "    </tr>\n",
       "    <tr>\n",
       "      <th>...</th>\n",
       "      <td>...</td>\n",
       "      <td>...</td>\n",
       "    </tr>\n",
       "    <tr>\n",
       "      <th>1078</th>\n",
       "      <td>2024-02-19</td>\n",
       "      <td>unk</td>\n",
       "    </tr>\n",
       "    <tr>\n",
       "      <th>1079</th>\n",
       "      <td>2024-02-20</td>\n",
       "      <td>unk</td>\n",
       "    </tr>\n",
       "    <tr>\n",
       "      <th>1080</th>\n",
       "      <td>2024-02-21</td>\n",
       "      <td>unk</td>\n",
       "    </tr>\n",
       "    <tr>\n",
       "      <th>1081</th>\n",
       "      <td>2024-02-22</td>\n",
       "      <td>unk</td>\n",
       "    </tr>\n",
       "    <tr>\n",
       "      <th>1082</th>\n",
       "      <td>2024-02-23</td>\n",
       "      <td>unk</td>\n",
       "    </tr>\n",
       "  </tbody>\n",
       "</table>\n",
       "<p>1083 rows × 2 columns</p>\n",
       "</div>"
      ],
      "text/plain": [
       "        tanggal harga_saham\n",
       "0    2020-01-01         unk\n",
       "1    2020-01-02         unk\n",
       "2    2020-01-03         unk\n",
       "3    2020-01-06         unk\n",
       "4    2020-01-07         unk\n",
       "...         ...         ...\n",
       "1078 2024-02-19         unk\n",
       "1079 2024-02-20         unk\n",
       "1080 2024-02-21         unk\n",
       "1081 2024-02-22         unk\n",
       "1082 2024-02-23         unk\n",
       "\n",
       "[1083 rows x 2 columns]"
      ]
     },
     "execution_count": 24,
     "metadata": {},
     "output_type": "execute_result"
    }
   ],
   "source": [
    "#buat df dengan tanggal dari 2020-01-01 ke 2024-02-23 dan kolom harga saham berisi harga \"unk\"\n",
    "date_rng=pd.date_range(start='1/1/2020', end='2/23/2024', freq='B')\n",
    "df2=pd.DataFrame(date_rng, columns=['tanggal'])\n",
    "df2['harga_saham']='unk'\n",
    "df2\n",
    "\n"
   ]
  },
  {
   "cell_type": "code",
   "execution_count": 25,
   "id": "158414b7",
   "metadata": {},
   "outputs": [
    {
     "data": {
      "text/html": [
       "<div>\n",
       "<style scoped>\n",
       "    .dataframe tbody tr th:only-of-type {\n",
       "        vertical-align: middle;\n",
       "    }\n",
       "\n",
       "    .dataframe tbody tr th {\n",
       "        vertical-align: top;\n",
       "    }\n",
       "\n",
       "    .dataframe thead th {\n",
       "        text-align: right;\n",
       "    }\n",
       "</style>\n",
       "<table border=\"1\" class=\"dataframe\">\n",
       "  <thead>\n",
       "    <tr style=\"text-align: right;\">\n",
       "      <th></th>\n",
       "      <th>tanggal</th>\n",
       "      <th>harga</th>\n",
       "    </tr>\n",
       "  </thead>\n",
       "  <tbody>\n",
       "    <tr>\n",
       "      <th>0</th>\n",
       "      <td>2020-01-01</td>\n",
       "      <td>unk</td>\n",
       "    </tr>\n",
       "    <tr>\n",
       "      <th>1</th>\n",
       "      <td>2020-01-02</td>\n",
       "      <td>7.750</td>\n",
       "    </tr>\n",
       "    <tr>\n",
       "      <th>2</th>\n",
       "      <td>2020-01-03</td>\n",
       "      <td>7.725</td>\n",
       "    </tr>\n",
       "    <tr>\n",
       "      <th>3</th>\n",
       "      <td>2020-01-06</td>\n",
       "      <td>7.600</td>\n",
       "    </tr>\n",
       "    <tr>\n",
       "      <th>4</th>\n",
       "      <td>2020-01-07</td>\n",
       "      <td>7.600</td>\n",
       "    </tr>\n",
       "    <tr>\n",
       "      <th>...</th>\n",
       "      <td>...</td>\n",
       "      <td>...</td>\n",
       "    </tr>\n",
       "    <tr>\n",
       "      <th>1078</th>\n",
       "      <td>2024-02-19</td>\n",
       "      <td>7.150</td>\n",
       "    </tr>\n",
       "    <tr>\n",
       "      <th>1079</th>\n",
       "      <td>2024-02-20</td>\n",
       "      <td>7.150</td>\n",
       "    </tr>\n",
       "    <tr>\n",
       "      <th>1080</th>\n",
       "      <td>2024-02-21</td>\n",
       "      <td>7.250</td>\n",
       "    </tr>\n",
       "    <tr>\n",
       "      <th>1081</th>\n",
       "      <td>2024-02-22</td>\n",
       "      <td>7.100</td>\n",
       "    </tr>\n",
       "    <tr>\n",
       "      <th>1082</th>\n",
       "      <td>2024-02-23</td>\n",
       "      <td>7.050</td>\n",
       "    </tr>\n",
       "  </tbody>\n",
       "</table>\n",
       "<p>1083 rows × 2 columns</p>\n",
       "</div>"
      ],
      "text/plain": [
       "        tanggal  harga\n",
       "0    2020-01-01    unk\n",
       "1    2020-01-02  7.750\n",
       "2    2020-01-03  7.725\n",
       "3    2020-01-06  7.600\n",
       "4    2020-01-07  7.600\n",
       "...         ...    ...\n",
       "1078 2024-02-19  7.150\n",
       "1079 2024-02-20  7.150\n",
       "1080 2024-02-21  7.250\n",
       "1081 2024-02-22  7.100\n",
       "1082 2024-02-23  7.050\n",
       "\n",
       "[1083 rows x 2 columns]"
      ]
     },
     "execution_count": 25,
     "metadata": {},
     "output_type": "execute_result"
    }
   ],
   "source": [
    "def gabungkan_df(df1, df2):\n",
    "    df1['tanggal']=pd.to_datetime(df1['tanggal'])\n",
    "    df2['tanggal']=pd.to_datetime(df2['tanggal'])\n",
    "    df=pd.merge(df1, df2, on='tanggal', how='outer')\n",
    "    return df\n",
    "df=gabungkan_df(df, df2)\n",
    "\n",
    "#mengisi missing value dengan \"unk\"\n",
    "df=df[[\"tanggal\",\"harga\"]].fillna(\"unk\")\n",
    "df"
   ]
  },
  {
   "cell_type": "code",
   "execution_count": 34,
   "id": "1bb313bd-d5e1-4f4c-97cc-0e75ee0dce12",
   "metadata": {
    "tags": []
   },
   "outputs": [
    {
     "name": "stderr",
     "output_type": "stream",
     "text": [
      "C:\\Users\\ASUS\\AppData\\Local\\Temp\\ipykernel_24780\\607189518.py:4: FutureWarning: Series.interpolate with object dtype is deprecated and will raise in a future version. Call obj.infer_objects(copy=False) before interpolating instead.\n",
      "  df['harga']=df['harga'].interpolate()\n",
      "C:\\Users\\ASUS\\AppData\\Local\\Temp\\ipykernel_24780\\607189518.py:9: FutureWarning: Series.fillna with 'method' is deprecated and will raise in a future version. Use obj.ffill() or obj.bfill() instead.\n",
      "  df['harga']=df['harga'].fillna(method='ffill')\n",
      "C:\\Users\\ASUS\\AppData\\Local\\Temp\\ipykernel_24780\\607189518.py:13: FutureWarning: Series.fillna with 'method' is deprecated and will raise in a future version. Use obj.ffill() or obj.bfill() instead.\n",
      "  df['harga']=df['harga'].fillna(method='bfill')\n"
     ]
    },
    {
     "data": {
      "text/plain": [
       "tanggal    0\n",
       "harga      0\n",
       "dtype: int64"
      ]
     },
     "execution_count": 34,
     "metadata": {},
     "output_type": "execute_result"
    }
   ],
   "source": [
    "# mengisi missing value dengan nilai interpolasi\n",
    "def isi_missing_value(df):\n",
    "    df['harga']=df['harga'].replace('unk', np.nan)\n",
    "    df['harga']=df['harga'].interpolate()\n",
    "    return df\n",
    "df=isi_missing_value(df)\n",
    "\n",
    "#isi lagi nan dengan nilai ffill\n",
    "df['harga']=df['harga'].fillna(method='ffill')\n",
    "df.isna().sum()\n",
    "\n",
    "#isi lagi nan dengan nilai bfill\n",
    "df['harga']=df['harga'].fillna(method='bfill')\n",
    "df.isna().sum()\n",
    "\n"
   ]
  },
  {
   "cell_type": "code",
   "execution_count": 38,
   "id": "bf95d36e",
   "metadata": {},
   "outputs": [],
   "source": [
    "df[\"harga\"]=df[\"harga\"].astype(float)"
   ]
  },
  {
   "cell_type": "markdown",
   "id": "c08e339c-a2e1-4a70-9177-208bbee4a318",
   "metadata": {},
   "source": [
    "# EDA"
   ]
  },
  {
   "cell_type": "code",
   "execution_count": 39,
   "id": "53a735bb-dc88-4a15-986c-eb679b794256",
   "metadata": {
    "tags": []
   },
   "outputs": [],
   "source": [
    "df_tanggal=df.copy()\n",
    "df_tanggal[\"tanggal\"]=pd.to_datetime(df_tanggal[\"tanggal\"])"
   ]
  },
  {
   "cell_type": "code",
   "execution_count": 40,
   "id": "20e10ad6-3912-48c7-b93c-82cc90fc5b03",
   "metadata": {
    "tags": []
   },
   "outputs": [
    {
     "data": {
      "text/plain": [
       "<Axes: xlabel='tanggal'>"
      ]
     },
     "execution_count": 40,
     "metadata": {},
     "output_type": "execute_result"
    },
    {
     "data": {
      "image/png": "[encoded data removed]",
      "text/plain": [
       "<Figure size 640x480 with 1 Axes>"
      ]
     },
     "metadata": {},
     "output_type": "display_data"
    }
   ],
   "source": [
    "df_tanggal.set_index(\"tanggal\",inplace=True)\n",
    "df_tanggal.plot()"
   ]
  },
  {
   "cell_type": "code",
   "execution_count": 41,
   "id": "77a4e62e-5fbb-4bfd-9a71-15ffa48ee833",
   "metadata": {},
   "outputs": [],
   "source": [
    "df.to_csv(\"data_model.csv\",index=False)"
   ]
  },
  {
   "cell_type": "code",
   "execution_count": 44,
   "id": "37d78641-0580-4feb-b498-03ae84a86ed4",
   "metadata": {
    "tags": []
   },
   "outputs": [],
   "source": [
    "from sklearn.preprocessing import MinMaxScaler\n",
    "scaler=MinMaxScaler(feature_range=(0,1))\n",
    "df_tanggal[\"norm_harga\"]=scaler.fit_transform(df_tanggal[[\"harga\"]])"
   ]
  },
  {
   "cell_type": "code",
   "execution_count": 45,
   "id": "04e88040-9851-4af0-bd62-2a9f41f20337",
   "metadata": {
    "tags": []
   },
   "outputs": [
    {
     "data": {
      "text/plain": [
       "<Axes: xlabel='tanggal'>"
      ]
     },
     "execution_count": 45,
     "metadata": {},
     "output_type": "execute_result"
    },
    {
     "data": {
      "image/png": "[encoded data removed]",
      "text/plain": [
       "<Figure size 640x480 with 1 Axes>"
      ]
     },
     "metadata": {},
     "output_type": "display_data"
    }
   ],
   "source": [
    "df_tanggal.plot()"
   ]
  }
 ],
 "metadata": {
  "kernelspec": {
   "display_name": "Python 3 (ipykernel)",
   "language": "python",
   "name": "python3"
  },
  "language_info": {
   "codemirror_mode": {
    "name": "ipython",
    "version": 3
   },
   "file_extension": ".py",
   "mimetype": "text/x-python",
   "name": "python",
   "nbconvert_exporter": "python",
   "pygments_lexer": "ipython3",
   "version": "3.10.11"
  }
 },
 "nbformat": 4,
 "nbformat_minor": 5
}
